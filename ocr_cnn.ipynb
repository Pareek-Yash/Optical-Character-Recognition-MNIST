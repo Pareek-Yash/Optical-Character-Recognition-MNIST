{
  "nbformat": 4,
  "nbformat_minor": 0,
  "metadata": {
    "colab": {
      "provenance": [],
      "authorship_tag": "ABX9TyN8qYaGypOSYzK5PdQBXFdo",
      "include_colab_link": true
    },
    "kernelspec": {
      "name": "python3",
      "display_name": "Python 3"
    },
    "language_info": {
      "name": "python"
    },
    "accelerator": "GPU",
    "gpuClass": "standard"
  },
  "cells": [
    {
      "cell_type": "markdown",
      "metadata": {
        "id": "view-in-github",
        "colab_type": "text"
      },
      "source": [
        "<a href=\"https://colab.research.google.com/github/Pareek-Yash/Optical-Character-Recognition-MNIST/blob/main/ocr_cnn.ipynb\" target=\"_parent\"><img src=\"https://colab.research.google.com/assets/colab-badge.svg\" alt=\"Open In Colab\"/></a>"
      ]
    },
    {
      "cell_type": "code",
      "execution_count": 1,
      "metadata": {
        "id": "aAJvuqqzfKmD"
      },
      "outputs": [],
      "source": [
        "import numpy as np\n",
        "import os\n",
        "import tensorflow as tf\n",
        "import matplotlib.pyplot as plt\n",
        "from skimage.transform import resize as imresize\n",
        "import cv2\n",
        "import time\n",
        "import keras"
      ]
    },
    {
      "cell_type": "code",
      "source": [
        "import matplotlib as mpl"
      ],
      "metadata": {
        "id": "IdskxT9mjyUU"
      },
      "execution_count": 2,
      "outputs": []
    },
    {
      "cell_type": "code",
      "source": [
        "%matplotlib inline"
      ],
      "metadata": {
        "id": "n_vMgaNyf-n3"
      },
      "execution_count": 3,
      "outputs": []
    },
    {
      "cell_type": "markdown",
      "source": [
        "## Importing The MNIST dataset"
      ],
      "metadata": {
        "id": "iMaBwDsEgTY3"
      }
    },
    {
      "cell_type": "code",
      "source": [
        "(x_train, y_train), (x_test, y_test) = keras.datasets.mnist.load_data()"
      ],
      "metadata": {
        "id": "r45ipa47gp_2",
        "outputId": "acfc0c40-02dd-4f2c-a185-b680b0126090",
        "colab": {
          "base_uri": "https://localhost:8080/"
        }
      },
      "execution_count": 4,
      "outputs": [
        {
          "output_type": "stream",
          "name": "stdout",
          "text": [
            "Downloading data from https://storage.googleapis.com/tensorflow/tf-keras-datasets/mnist.npz\n",
            "11490434/11490434 [==============================] - 0s 0us/step\n"
          ]
        }
      ]
    },
    {
      "cell_type": "markdown",
      "source": [
        "The MNIST is a dataset of 60,000 28x28 grayscale images of the 10 digits, along with a test set of 10,000 images. \n",
        "\n",
        "1. x_train: uint8 NumPy array of grayscale image data with shapes (60000,\n",
        "28, 28), containing the training data. Pixel values range from 0 to 255.\n",
        "\n",
        "2. y_train: uint8 NumPy array of digit labels (integers in range 0-9) with shape (60000,) for the training data.\n",
        "\n",
        "3. x_test: uint8 NumPy array of grayscale image data with shapes (10000, 28, 28), containing the test data. Pixel values range from 0 to 255.\n",
        "\n",
        "4. y_test: uint8 NumPy array of digit labels (integers in range 0-9) with shape (10000,) for the test data."
      ],
      "metadata": {
        "id": "FjhBRZicib8X"
      }
    },
    {
      "cell_type": "code",
      "source": [],
      "metadata": {
        "id": "FtyG_lcKke24"
      },
      "execution_count": 4,
      "outputs": []
    },
    {
      "cell_type": "markdown",
      "source": [
        "Let's look how our images actually look like"
      ],
      "metadata": {
        "id": "isaEWFr3kVMp"
      }
    },
    {
      "cell_type": "code",
      "source": [
        "some_digit = x_train[1500]\n",
        "some_digit_image = some_digit.reshape(28, 28)\n",
        "plt.imshow(some_digit_image, cmap=mpl.cm.binary)\n",
        "plt.axis(\"off\")\n",
        "\n",
        "plt.show()"
      ],
      "metadata": {
        "id": "-g8RyDZ_iyYa",
        "outputId": "33f8ad10-7b43-4a3d-8dd3-a87c8220df61",
        "colab": {
          "base_uri": "https://localhost:8080/",
          "height": 248
        }
      },
      "execution_count": 5,
      "outputs": [
        {
          "output_type": "display_data",
          "data": {
            "text/plain": [
              "<Figure size 432x288 with 1 Axes>"
            ],
            "image/png": "[encoded data removed]"
          },
          "metadata": {
            "needs_background": "light"
          }
        }
      ]
    },
    {
      "cell_type": "code",
      "source": [
        "from functools import partial\n",
        "DefaultConv2D = partial(keras.layers.Conv2D, kernel_size=3, strides=1,\n",
        "                        padding=\"SAME\", use_bias=False)\n",
        "\n",
        "class ResidualUnit(keras.layers.Layer):\n",
        "    def __init__(self, filters, strides=1, activation=\"relu\", **kwargs):\n",
        "        super().__init__(**kwargs)\n",
        "        self.activation = keras.activations.get(activation)\n",
        "        self.main_layers = [\n",
        "            DefaultConv2D(filters, strides=strides),\n",
        "            keras.layers.BatchNormalization(),\n",
        "            self.activation,\n",
        "            DefaultConv2D(filters),\n",
        "            keras.layers.BatchNormalization()]\n",
        "        self.skip_layers = []\n",
        "        if strides > 1:\n",
        "            self.skip_layers = [\n",
        "                DefaultConv2D(filters, kernel_size=1, strides=strides),\n",
        "                keras.layers.BatchNormalization()]\n",
        "\n",
        "    def call(self, inputs):\n",
        "        Z = inputs\n",
        "        for layer in self.main_layers:\n",
        "            Z = layer(Z)\n",
        "        skip_Z = inputs\n",
        "        for layer in self.skip_layers:\n",
        "            skip_Z = layer(skip_Z)\n",
        "        return self.activation(Z + skip_Z)"
      ],
      "metadata": {
        "id": "u_3GR0epm2Qa"
      },
      "execution_count": 6,
      "outputs": []
    },
    {
      "cell_type": "code",
      "source": [
        "model = keras.models.Sequential()\n",
        "model.add(DefaultConv2D(64, kernel_size=7, strides=2,\n",
        "                        input_shape=[28, 28, 1]))\n",
        "model.add(keras.layers.BatchNormalization())\n",
        "model.add(keras.layers.Activation(\"relu\"))\n",
        "model.add(keras.layers.MaxPool2D(pool_size=3, strides=2, padding=\"SAME\"))\n",
        "prev_filters = 64\n",
        "for filters in [64] * 3 + [128] * 4 + [256] * 6 + [512] * 3:\n",
        "    strides = 1 if filters == prev_filters else 2\n",
        "    model.add(ResidualUnit(filters, strides=strides))\n",
        "    prev_filters = filters\n",
        "model.add(keras.layers.GlobalAvgPool2D())\n",
        "model.add(keras.layers.Flatten())\n",
        "model.add(keras.layers.Dense(10, activation=\"softmax\"))"
      ],
      "metadata": {
        "id": "dTceQIRvmdfb"
      },
      "execution_count": 26,
      "outputs": []
    },
    {
      "cell_type": "code",
      "source": [
        "model.compile(loss=\"sparse_categorical_crossentropy\", optimizer=\"nadam\", metrics=[\"accuracy\"])\n",
        "history = model.fit(x_train, y_train, epochs=10)\n",
        "score = model.evaluate(x_test, y_test)"
      ],
      "metadata": {
        "id": "bnl2j0TwnHxo",
        "outputId": "97e365c0-18d0-4836-8158-16a6ad2e6a6d",
        "colab": {
          "base_uri": "https://localhost:8080/"
        }
      },
      "execution_count": 27,
      "outputs": [
        {
          "output_type": "stream",
          "name": "stdout",
          "text": [
            "Epoch 1/10\n",
            "1875/1875 [==============================] - 99s 49ms/step - loss: 0.1839 - accuracy: 0.9506\n",
            "Epoch 2/10\n",
            "1875/1875 [==============================] - 92s 49ms/step - loss: 0.0907 - accuracy: 0.9754\n",
            "Epoch 3/10\n",
            "1875/1875 [==============================] - 90s 48ms/step - loss: 0.0756 - accuracy: 0.9796\n",
            "Epoch 4/10\n",
            "1875/1875 [==============================] - 90s 48ms/step - loss: 0.0589 - accuracy: 0.9839\n",
            "Epoch 5/10\n",
            "1875/1875 [==============================] - 91s 48ms/step - loss: 0.0482 - accuracy: 0.9867\n",
            "Epoch 6/10\n",
            "1875/1875 [==============================] - 90s 48ms/step - loss: 0.0387 - accuracy: 0.9889\n",
            "Epoch 7/10\n",
            "1875/1875 [==============================] - 90s 48ms/step - loss: 0.0383 - accuracy: 0.9893\n",
            "Epoch 8/10\n",
            "1875/1875 [==============================] - 92s 49ms/step - loss: 0.0313 - accuracy: 0.9909\n",
            "Epoch 9/10\n",
            "1875/1875 [==============================] - 91s 48ms/step - loss: 0.0266 - accuracy: 0.9920\n",
            "Epoch 10/10\n",
            "1875/1875 [==============================] - 93s 49ms/step - loss: 0.0225 - accuracy: 0.9929\n",
            "313/313 [==============================] - 4s 12ms/step - loss: 0.0239 - accuracy: 0.9940\n"
          ]
        }
      ]
    },
    {
      "cell_type": "code",
      "source": [
        "score = model.evaluate(x_test, y_test)"
      ],
      "metadata": {
        "id": "2-SMj6MsoZDg",
        "outputId": "ad9a5b96-cb47-416e-b978-d557620d14e4",
        "colab": {
          "base_uri": "https://localhost:8080/"
        }
      },
      "execution_count": 9,
      "outputs": [
        {
          "output_type": "stream",
          "name": "stdout",
          "text": [
            "313/313 [==============================] - 5s 12ms/step - loss: 0.0288 - accuracy: 0.9919\n"
          ]
        }
      ]
    },
    {
      "cell_type": "code",
      "source": [
        "y_pred = model.predict(x_test[:10])"
      ],
      "metadata": {
        "id": "rhEMyxcBsvrg",
        "outputId": "0c2b1692-5f61-459e-9fb0-dffde2b4ec29",
        "colab": {
          "base_uri": "https://localhost:8080/"
        }
      },
      "execution_count": 54,
      "outputs": [
        {
          "output_type": "stream",
          "name": "stdout",
          "text": [
            "1/1 [==============================] - 0s 20ms/step\n"
          ]
        }
      ]
    },
    {
      "cell_type": "code",
      "source": [
        "predicted = np.array([np.argmax(prediction) for prediction in y_pred])"
      ],
      "metadata": {
        "id": "d_fU1KLKz43t"
      },
      "execution_count": 56,
      "outputs": []
    },
    {
      "cell_type": "code",
      "source": [
        "predicted"
      ],
      "metadata": {
        "id": "C5RQrJaHufFq",
        "outputId": "d261dc20-602f-4fd4-f1f8-5b14da885418",
        "colab": {
          "base_uri": "https://localhost:8080/"
        }
      },
      "execution_count": 57,
      "outputs": [
        {
          "output_type": "execute_result",
          "data": {
            "text/plain": [
              "array([7, 2, 1, 0, 4, 1, 4, 9, 5, 9])"
            ]
          },
          "metadata": {},
          "execution_count": 57
        }
      ]
    },
    {
      "cell_type": "code",
      "source": [
        "y_test[:10]"
      ],
      "metadata": {
        "id": "x8ooD_-4wpxG",
        "outputId": "c4c689e9-be67-4348-a592-da24bea2d4a1",
        "colab": {
          "base_uri": "https://localhost:8080/"
        }
      },
      "execution_count": 58,
      "outputs": [
        {
          "output_type": "execute_result",
          "data": {
            "text/plain": [
              "array([7, 2, 1, 0, 4, 1, 4, 9, 5, 9], dtype=uint8)"
            ]
          },
          "metadata": {},
          "execution_count": 58
        }
      ]
    }
  ]
}